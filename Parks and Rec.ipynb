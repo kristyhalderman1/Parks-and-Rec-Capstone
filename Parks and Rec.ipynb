{
 "cells": [
  {
   "cell_type": "code",
   "execution_count": 1,
   "id": "7a618bee",
   "metadata": {},
   "outputs": [],
   "source": [
    "import requests\n",
    "from bs4 import BeautifulSoup"
   ]
  },
  {
   "cell_type": "markdown",
   "id": "9bff32fa",
   "metadata": {},
   "source": [
    "# Building Website Request to Scrape Similar Metrics"
   ]
  },
  {
   "cell_type": "code",
   "execution_count": 3,
   "id": "16b1f656",
   "metadata": {},
   "outputs": [],
   "source": [
    "#potential: Bend, OR; Provo, UT; Bozeman, MT; Billings, MT"
   ]
  },
  {
   "cell_type": "code",
   "execution_count": 4,
   "id": "d034dd63",
   "metadata": {
    "scrolled": true
   },
   "outputs": [
    {
     "name": "stderr",
     "output_type": "stream",
     "text": [
      "Some characters could not be decoded, and were replaced with REPLACEMENT CHARACTER.\n"
     ]
    }
   ],
   "source": [
    "# Make a request to the website\n",
    "url = \"https://www.bendparksandrec.org/wp-content/uploads/2018/07/BPRD-Comp-Plan-Adopted-for-web.pdf\"\n",
    "response = requests.get(url)\n",
    "\n",
    "# Check if the request was successful\n",
    "if response.status_code == 200:\n",
    "    # Parse the HTML content\n",
    "    soup = BeautifulSoup(response.content, \"html.parser\")\n"
   ]
  },
  {
   "cell_type": "code",
   "execution_count": null,
   "id": "d7d74cc6",
   "metadata": {},
   "outputs": [],
   "source": [
    "# Find the table containing the metrics\n",
    "    table = soup.find(\"table\", {\"id\": \"metrics-table\"})\n",
    "\n",
    "    # Extract the data from the table\n",
    "    rows = table.find_all(\"tr\")\n",
    "    metrics = {}\n",
    "    for row in rows:\n",
    "        cols = row.find_all(\"td\")\n",
    "        if len(cols) == 2:\n",
    "            metric_name = cols[0].text.strip()\n",
    "            metric_value = cols[1].text.strip()\n",
    "            metrics[metric_name] = metric_value\n",
    "\n",
    "    # Print the metrics\n",
    "    print(metrics)\n",
    "else:\n",
    "    print(\"Request failed with status code:\", response.status_code)"
   ]
  }
 ],
 "metadata": {
  "kernelspec": {
   "display_name": "Python 3 (ipykernel)",
   "language": "python",
   "name": "python3"
  },
  "language_info": {
   "codemirror_mode": {
    "name": "ipython",
    "version": 3
   },
   "file_extension": ".py",
   "mimetype": "text/x-python",
   "name": "python",
   "nbconvert_exporter": "python",
   "pygments_lexer": "ipython3",
   "version": "3.9.12"
  }
 },
 "nbformat": 4,
 "nbformat_minor": 5
}
