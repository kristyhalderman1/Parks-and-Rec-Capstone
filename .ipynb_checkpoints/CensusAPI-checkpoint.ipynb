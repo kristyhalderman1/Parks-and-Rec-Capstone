{
 "cells": [
  {
   "cell_type": "code",
   "execution_count": null,
   "id": "66867bb1",
   "metadata": {},
   "outputs": [],
   "source": [
    "65f866809bb26f519e5d7f7cdad04c40c4c415db"
   ]
  }
 ],
 "metadata": {
  "kernelspec": {
   "display_name": "Python 3 (ipykernel)",
   "language": "python",
   "name": "python3"
  },
  "language_info": {
   "codemirror_mode": {
    "name": "ipython",
    "version": 3
   },
   "file_extension": ".py",
   "mimetype": "text/x-python",
   "name": "python",
   "nbconvert_exporter": "python",
   "pygments_lexer": "ipython3",
   "version": "3.9.12"
  }
 },
 "nbformat": 4,
 "nbformat_minor": 5
}
